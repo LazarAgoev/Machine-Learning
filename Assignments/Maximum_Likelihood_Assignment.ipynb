{
  "nbformat": 4,
  "nbformat_minor": 0,
  "metadata": {
    "colab": {
      "name": "Maximum_Likelihood_Assignment.ipynb",
      "provenance": [],
      "collapsed_sections": []
    },
    "kernelspec": {
      "name": "python3",
      "display_name": "Python 3"
    },
    "language_info": {
      "name": "python"
    }
  },
  "cells": [
    {
      "cell_type": "markdown",
      "source": [
        "# Maximum Likelihood Parameter Estimation\n",
        "\n",
        "\n",
        "##Part 1:\n",
        "A) Let X = amount of time (in minutes) a ice cream man gets a new customer at his cart. The time is known to have an exponential distribution with the average amount of time between a new customer being four minutes.\n",
        "\n",
        "Plot the probablity density function of the exponential distribution of this ice cream man getting a customer every 4 minutes. \n",
        "\n",
        "B) Now assume on a very hot day the ice cream man gets X customers and each new customer comes every 4 minutes. Generate X samples from the exponential distribution where X = 200 and the rate = 4. Plot the samples on a graph to show how they look graphically. Does it look similar to the graph above? (20 points)\n",
        "\n",
        "\n",
        "## Part 2:\n",
        "Assume that you are given the customer data generated in Part 1, implement a Gradient Descent algorithm from scratch that will estimate the Exponential distribution according to the Maximum Likelihood criterion.\n",
        "\n",
        "Answer the following:\n",
        "\n",
        "    Plot the negative log likelihood of the exponential distribution. \n",
        "\n",
        "    What is the lambda MLE of the generated data? \n",
        "\n",
        "    Plot the estimated lambda vs iterations to showcase convergence towards the true lambda \n",
        "\n",
        "## Part 3:\n",
        "Suppose we have a training set of $m$ independently distributed samples\n",
        "$\\{(x_1,y_1),(x_2,y_2),(x_3,y_3),...,(x_m,y_m)\\}$ \\\\\n",
        "that is generated from a distribution. \\\\ \n",
        "Assumming a Gaussian model write the expression of the Negative Log Likelihood function $NLL$. \\\\\n",
        "Write the parameters $\\omega$ and the $\\sigma ^2$ that minimize the $NLL$ \\\\\n",
        "Write a Python script that uses SGD to converge to $\\omega _{ML}$ and $\\sigma ^2 _{ML}$ for the following dataset"
      ],
      "metadata": {
        "id": "RMvrAM7KedaS"
      }
    },
    {
      "cell_type": "code",
      "execution_count": null,
      "metadata": {
        "id": "PME13cNtwlCp"
      },
      "outputs": [],
      "source": [
        "from scipy.stats import expon\n",
        "import matplotlib.pyplot as plt\n",
        "import numpy as np"
      ]
    },
    {
      "cell_type": "markdown",
      "source": [
        "#Problem 1a\n",
        "The equation of the probability density funtion for exponential distribution is: \\\\\n",
        "$f(x) = \\lambda e^{-\\lambda x}$\\\\\n",
        "where $\\lambda = \\frac{1}{\\beta}$ and $\\beta$ is the average time between the costumers.\n",
        "The grah bellow shows the probability dencity function.\n"
      ],
      "metadata": {
        "id": "0TPMiCZkh5LF"
      }
    },
    {
      "cell_type": "code",
      "source": [
        "x = np.linspace(expon.ppf(0.01,0,4), expon.ppf(0.99,0,4), 100)\n",
        "plt.plot(x, expon.pdf(x,0,4),'r' ,label='expon pdf')\n",
        "plt.xlabel(\"Time [minutes]\")\n",
        "plt.ylabel(\"Probability\")\n",
        "plt.title(\"Probability density\")"
      ],
      "metadata": {
        "colab": {
          "base_uri": "https://localhost:8080/",
          "height": 313
        },
        "id": "sa2aIlbL52Ml",
        "outputId": "85f51f8f-2b5e-46df-e356-e13cdab11f1c"
      },
      "execution_count": null,
      "outputs": [
        {
          "output_type": "execute_result",
          "data": {
            "text/plain": [
              "Text(0.5, 1.0, 'Probability density')"
            ]
          },
          "metadata": {},
          "execution_count": 3
        },
        {
          "output_type": "display_data",
          "data": {
            "image/png": "[encoded data removed]",
            "text/plain": [
              "<Figure size 432x288 with 1 Axes>"
            ]
          },
          "metadata": {
            "needs_background": "light"
          }
        }
      ]
    },
    {
      "cell_type": "markdown",
      "source": [
        "#Problem 1b\n",
        "Bellow I generated 200 samples using the given probability distribution with the average time between costumers 4 minutes ($\\lambda = 0.25$). \\\\\n",
        "The I ploted the histogram of the resulted arrival time.(blue) \\\\\n",
        "On top of my histogram I ploted the probability distribution from above (red) for the comparison purposes. \\\\\n",
        "As you can see my generated samples follow the predicted probability distribution."
      ],
      "metadata": {
        "id": "NyHBtDN7hxhd"
      }
    },
    {
      "cell_type": "code",
      "source": [
        "r = expon.rvs(0,4,size=200)\n",
        "plt.hist(r, density=True, histtype='stepfilled', alpha=0.7, label = 'Generated samples')\n",
        "plt.plot(x, expon.pdf(x,0,4),'r' ,label='Exponentioal pdf')\n",
        "plt.xlabel(\"Time [minutes]\")\n",
        "plt.ylabel(\"Probability\")\n",
        "plt.title(\"Probability density\")\n",
        "plt.legend()"
      ],
      "metadata": {
        "colab": {
          "base_uri": "https://localhost:8080/",
          "height": 313
        },
        "id": "6miiFvTDLxi0",
        "outputId": "88ac0389-bf2d-4b14-c737-a76458c94685"
      },
      "execution_count": null,
      "outputs": [
        {
          "output_type": "execute_result",
          "data": {
            "text/plain": [
              "<matplotlib.legend.Legend at 0x7f71d65dd790>"
            ]
          },
          "metadata": {},
          "execution_count": 4
        },
        {
          "output_type": "display_data",
          "data": {
            "image/png": "[encoded data removed]",
            "text/plain": [
              "<Figure size 432x288 with 1 Axes>"
            ]
          },
          "metadata": {
            "needs_background": "light"
          }
        }
      ]
    },
    {
      "cell_type": "markdown",
      "source": [
        "#Part 2\n",
        "\n",
        "The equation for the likelihood of exponential distribution is: \\\\\n",
        "$L(\\lambda ,x_1, ... x_n)=\\lambda^n e^{-\\lambda \\sum^n_{i=1} x_i}$ \\\\\n",
        "To make it look better we find a negative log of the likelihood: \\\\\n",
        "$-log(L)=\\lambda \\sum^n_{i=1} x_i - nlog(\\lambda)$ \\\\\n",
        "Down bellow I generated a plot of negative likelehoods for lambdas between 0.01 and 0.99. \\\\\n",
        "As you can see the grapg has a minimum value around 0.25 with correspond to the true lambda."
      ],
      "metadata": {
        "id": "jtkeERfCMR5U"
      }
    },
    {
      "cell_type": "code",
      "source": [
        "l = np.linspace(0.01,0.99,99)\n",
        "log_like = np.zeros(99)\n",
        "for i in range(99):\n",
        "  log_like[i]=l[i]*sum(r)-200*np.log(l[i])\n",
        "plt.plot(l,log_like)"
      ],
      "metadata": {
        "id": "4WwnzHohMUIz",
        "colab": {
          "base_uri": "https://localhost:8080/",
          "height": 283
        },
        "outputId": "47bfd900-ee64-4b78-a93b-077ef2dd69f8"
      },
      "execution_count": null,
      "outputs": [
        {
          "output_type": "execute_result",
          "data": {
            "text/plain": [
              "[<matplotlib.lines.Line2D at 0x7f71d62e8310>]"
            ]
          },
          "metadata": {},
          "execution_count": 7
        },
        {
          "output_type": "display_data",
          "data": {
            "image/png": "[encoded data removed]",
            "text/plain": [
              "<Figure size 432x288 with 1 Axes>"
            ]
          },
          "metadata": {
            "needs_background": "light"
          }
        }
      ]
    },
    {
      "cell_type": "markdown",
      "source": [
        "To find the minimum lambda of the data set, we have to fine the derivatibe of lnegative likelihood and equate it to zero: \\\\\n",
        "$\\frac{d}{d\\lambda}(-log(L))=\\sum^n_{i=1} x_i - \\frac{n}{\\lambda} = 0$ \\\\\n",
        "from the above equation we find the lambda: \\\\\n",
        "$\\lambda = \\frac{n}{\\sum^n_{i=1} x_i}$ \\\\\n",
        "where n=200;"
      ],
      "metadata": {
        "id": "A8LnuXdennrW"
      }
    },
    {
      "cell_type": "code",
      "source": [
        "lam_est=200/sum(r)\n",
        "print(\"The estimated lambda of the output is {}, which is close to the actual lambda of 0.25\".format(lam_est))\n"
      ],
      "metadata": {
        "colab": {
          "base_uri": "https://localhost:8080/"
        },
        "id": "fcfmY9ulS6bb",
        "outputId": "80a9bd7e-2d6d-4272-9a44-5d61c43f7af2"
      },
      "execution_count": null,
      "outputs": [
        {
          "output_type": "stream",
          "name": "stdout",
          "text": [
            "The estimated lambda of the output is 0.23571688005745356, which is close to the actual lambda of 0.25\n"
          ]
        }
      ]
    },
    {
      "cell_type": "markdown",
      "source": [
        "Now we implement gradiend descent algorithm to find the desired lambda. As I stated above, the gradient of the negative loglikelihood is: \\\\\n",
        "$\\frac{d}{d\\lambda}(-log(L))=\\sum^n_{i=1} x_i - \\frac{n}{\\lambda}$ \\\\\n",
        "After each iterations the new lambda is: \\\\\n",
        "$\\lambda_n = \\lambda_{n-1}-\\eta \\bigtriangledown L$ \\\\\n",
        "where $\\eta$ is the step, I chose it to be 0.00001. \\\\\n",
        "I started the gredient descent with the initial prediction of lambda being 0.1. And as you can see after 200 iterations it converges to the estimated lambda from above."
      ],
      "metadata": {
        "id": "2HvNTe1ooxIV"
      }
    },
    {
      "cell_type": "code",
      "source": [
        "it=200\n",
        "x=np.linspace(0,it,it+1)\n",
        "step = 0.00001\n",
        "lam=np.zeros(it+1)\n",
        "pred=0.1\n",
        "dlog_like = sum(r) - 200/pred\n",
        "lam[0]=pred\n",
        "for i in range(1,it+1):\n",
        "  lam[i]=lam[i-1]-step*dlog_like\n",
        "  dlog_like = sum(r) - 200/lam[i]\n",
        "plt.plot(x,lam)"
      ],
      "metadata": {
        "id": "rIDu936uV0Uc",
        "colab": {
          "base_uri": "https://localhost:8080/",
          "height": 283
        },
        "outputId": "6827ae13-c41d-496a-b33d-fa8ca27a54c0"
      },
      "execution_count": null,
      "outputs": [
        {
          "output_type": "execute_result",
          "data": {
            "text/plain": [
              "[<matplotlib.lines.Line2D at 0x7f71d6256190>]"
            ]
          },
          "metadata": {},
          "execution_count": 11
        },
        {
          "output_type": "display_data",
          "data": {
            "image/png": "[encoded data removed]",
            "text/plain": [
              "<Figure size 432x288 with 1 Axes>"
            ]
          },
          "metadata": {
            "needs_background": "light"
          }
        }
      ]
    },
    {
      "cell_type": "markdown",
      "source": [
        "#Problem 3"
      ],
      "metadata": {
        "id": "L4xuhewJfDpO"
      }
    },
    {
      "cell_type": "code",
      "source": [
        "def plot(omega):\n",
        "  plot_x=np.linspace(0,60,60)\n",
        "  plot_y=np.zeros(60)\n",
        "  for k in range(60):\n",
        "    plot_y[k]=omega[1]*plot_x[k]+omega[0]\n",
        "  plt.plot(plot_x,plot_y, label='best fit')\n",
        "  plt.plot(x,y,'.',label='data points')\n",
        "  plt.xlabel(\"x\")\n",
        "  plt.ylabel(\"y\")\n",
        "  plt.title(\"Best fit line\")\n",
        "  plt.legend()"
      ],
      "metadata": {
        "id": "cAC4sBcQRedz"
      },
      "execution_count": null,
      "outputs": []
    },
    {
      "cell_type": "code",
      "source": [
        "x = np.array([8, 16, 22, 33, 50, 51])\n",
        "y = np.array([5, 20, 14, 32, 42, 58])\n",
        "plt.plot(x,y, \".\")\n",
        "plt.xlabel(\"x\")\n",
        "plt.ylabel(\"y\")\n",
        "plt.title(\"Given Data\")"
      ],
      "metadata": {
        "id": "vBDSvON1fFao",
        "colab": {
          "base_uri": "https://localhost:8080/",
          "height": 313
        },
        "outputId": "df977741-ea8a-4c6b-8489-533f3bfdba9a"
      },
      "execution_count": null,
      "outputs": [
        {
          "output_type": "execute_result",
          "data": {
            "text/plain": [
              "Text(0.5, 1.0, 'Given Data')"
            ]
          },
          "metadata": {},
          "execution_count": 52
        },
        {
          "output_type": "display_data",
          "data": {
            "image/png": "[encoded data removed]",
            "text/plain": [
              "<Figure size 432x288 with 1 Axes>"
            ]
          },
          "metadata": {
            "needs_background": "light"
          }
        }
      ]
    },
    {
      "cell_type": "markdown",
      "source": [
        "We are given the data above and are told to assume the Gaussian model: \\\\\n",
        "$p_{model} (y_i | x_i;\\omega) = \\frac{1}{\\sqrt{2 \\pi \\delta^2}}e^{-\\frac{(y_i-\\omega^T x_i)^2}{\\delta^2}}$ \\\\\n",
        "The likelehood function for the given distribution is: \\\\\n",
        "$L(\\omega, \\delta^2;x_1,...,x_n) = \\frac{1}{(\\sqrt{2\\pi \\delta^2})^n}e^{-\\frac{1}{2\\delta^2}\\sum^n_{j=1}{(y_j-\\omega^T x_j)^2}}$ \\\\\n",
        "Thus we can find the negative log likelihood (NLL) to be: \\\\\n",
        "$l=-log(L)=\\frac{1}{2\\delta^2}\\sum^n_{j=1}(y_j-\\omega^T x_j)^2+\\frac{n}{2}(log(\\delta^2)+log(2\\pi))$ \\\\"
      ],
      "metadata": {
        "id": "cWYwWCFy2CcM"
      }
    },
    {
      "cell_type": "markdown",
      "source": [
        "Since the data set is not big, the optimal omega can be found analyticaly given the formula: \\\\\n",
        "$\\hat{\\omega}=(X^TX)^{-1}X^Ty$ \\\\\n",
        "the calculation is done bellow by first adding $x_0=1$ to each of the data sets to introduce the bias variable and the computing the optimal omega using \"linlag.inv\" and \"dot()\" functions from the \"numpy\" library."
      ],
      "metadata": {
        "id": "coLdiYAe7IG3"
      }
    },
    {
      "cell_type": "code",
      "source": [
        "X_b = np.c_[np.ones((6, 1)), x] # add x0 = 1 to each instance\n",
        "omega_best = np.linalg.inv(X_b.T.dot(X_b)).dot(X_b.T).dot(y)\n",
        "print(\"For the linear regression the equation is y=mx+b. Our optimal omega is {}. Where m = {} and b = {}\".format(omega_best,omega_best[1],omega_best[0]))\n",
        "plot(omega_best)"
      ],
      "metadata": {
        "id": "habHTjjzfF8l",
        "colab": {
          "base_uri": "https://localhost:8080/",
          "height": 313
        },
        "outputId": "3f45dd2b-bcdd-40aa-c78d-0112635956d0"
      },
      "execution_count": null,
      "outputs": [
        {
          "output_type": "stream",
          "name": "stdout",
          "text": [
            "For the linear regression the equation is y=mx+b. Our optimal omega is [-2.59159348  1.03638645]. Where m = 1.0363864491844417 and b = -2.591593475533255\n"
          ]
        },
        {
          "output_type": "display_data",
          "data": {
            "image/png": "[encoded data removed]",
            "text/plain": [
              "<Figure size 432x288 with 1 Axes>"
            ]
          },
          "metadata": {
            "needs_background": "light"
          }
        }
      ]
    },
    {
      "cell_type": "markdown",
      "source": [
        "After we found the optimal omega, we can easily find the optimal variance using this equation: \\\\\n",
        "$\\hat{\\delta}^2=\\frac{1}{n}\\sum^n_{j=1}(y_j-\\omega^T x)^2$"
      ],
      "metadata": {
        "id": "21VPYq8u82t7"
      }
    },
    {
      "cell_type": "code",
      "source": [
        "diff = np.zeros(len(X_b))\n",
        "for i in range(len(X_b)):\n",
        "  diff[i]=(y[i]-omega_best.T.dot(X_b[i]))**2\n",
        "variance = 1/(len(X_b))*sum(diff)\n",
        "print(\"The optimal variance is\",variance)"
      ],
      "metadata": {
        "colab": {
          "base_uri": "https://localhost:8080/"
        },
        "id": "LaB92IuA9lO9",
        "outputId": "f6d8def7-aae1-4497-b19d-bb3289dd2716"
      },
      "execution_count": null,
      "outputs": [
        {
          "output_type": "stream",
          "name": "stdout",
          "text": [
            "The optimal variance is 31.231597657883746\n"
          ]
        }
      ]
    },
    {
      "cell_type": "markdown",
      "source": [
        "Bellow I wrote a simple Stochastic Gradient Descent algorithm to find the best fit line. I didn't use learning schedule and desided to keep the learning rate constant since we have a small data set. \\\\\n",
        "My learning rate is 0.0001 and number of epochs is 50. The resilting omega is is not very close to the optimal omega from above because we are using Stochastic GD instead of Batch GD, however it still does a good job fitting the data, as can be seen from the plot."
      ],
      "metadata": {
        "id": "SI8vZFTx_3xa"
      }
    },
    {
      "cell_type": "code",
      "source": [
        "eta = 0.0001 # learning rate\n",
        "n_epochs = 50\n",
        "omega = np.random.randn(2,1) # random initialization\n",
        "for epoch in range(n_epochs):\n",
        "  random_index = np.random.randint(len(X_b))\n",
        "  xi = X_b[random_index:random_index+1]\n",
        "  yi = y[random_index:random_index+1]\n",
        "  gradients = 2 * xi.T.dot(xi.dot(omega) - yi)\n",
        "  omega = omega - eta * gradients\n",
        "print(\"For the linear regression the equation is y=mx+b. Omega found by the SGD algorithm is {}. Where m = {} and b = {}\".format(omega,omega[1],omega[0]))\n",
        "plot(omega)"
      ],
      "metadata": {
        "colab": {
          "base_uri": "https://localhost:8080/",
          "height": 330
        },
        "id": "dhDsWMF0jYWP",
        "outputId": "0b0e3ac1-d3b0-44e0-c6f9-0fe291cce5b9"
      },
      "execution_count": null,
      "outputs": [
        {
          "output_type": "stream",
          "name": "stdout",
          "text": [
            "For the linear regression the equation is y=mx+b. Our optimal omega is [[0.34768383]\n",
            " [0.88736938]]. Where m = [0.88736938] and b = [0.34768383]\n"
          ]
        },
        {
          "output_type": "display_data",
          "data": {
            "image/png": "[encoded data removed]",
            "text/plain": [
              "<Figure size 432x288 with 1 Axes>"
            ]
          },
          "metadata": {
            "needs_background": "light"
          }
        }
      ]
    },
    {
      "cell_type": "markdown",
      "source": [
        "After we found the optimal omega, we can easily find the optimal variance using this equation: \\\\\n",
        "$\\hat{\\delta}^2=\\frac{1}{n}\\sum^n_{j=1}(y_j-\\omega^T x)^2$"
      ],
      "metadata": {
        "id": "4OdsNJCHSd0L"
      }
    },
    {
      "cell_type": "code",
      "source": [
        "diff = np.zeros(len(X_b))\n",
        "for i in range(len(X_b)):\n",
        "  diff[i]=(y[i]-omega.T.dot(X_b[i]))**2\n",
        "variance = 1/(len(X_b))*sum(diff)\n",
        "print(\"Variance found by the SGD algorithm is\",variance)"
      ],
      "metadata": {
        "colab": {
          "base_uri": "https://localhost:8080/"
        },
        "id": "hpHDwH3jSfKA",
        "outputId": "3f01a585-d4df-4597-efc4-1bb4ad8e9d81"
      },
      "execution_count": null,
      "outputs": [
        {
          "output_type": "stream",
          "name": "stdout",
          "text": [
            "Variance found by the SGD algorithm is 39.47569488306681\n"
          ]
        }
      ]
    },
    {
      "cell_type": "markdown",
      "source": [
        "The SGD algorithm can also be performed using \"SGDRegressor\" from \"sklearn\" library. Which will give us a similar result. It is faster than Batch GD because I only use 50 itterations but it doesn't give a perfect result."
      ],
      "metadata": {
        "id": "53nXD_NsS_7y"
      }
    },
    {
      "cell_type": "code",
      "source": [
        "from sklearn.linear_model import SGDRegressor\n",
        "sgd_reg = SGDRegressor(max_iter=50, tol=0.01, penalty='l2', eta0=0.001)\n",
        "sgd_reg.fit(X_b, y.ravel())\n",
        "diff = np.zeros(len(X_b))\n",
        "for i in range(len(X_b)):\n",
        "  diff[i]=(y[i]-sgd_reg.coef_.T.dot(X_b[i]))**2\n",
        "variance = 1/(len(X_b))*sum(diff)\n",
        "print(\"For the linear regression the equation is y=mx+b. Omega found by the SGD algorithm is {}. Where m = {} and b = {}\".format(omega,sgd_reg.coef_[1],sgd_reg.coef_[0]))\n",
        "print(\"Variance found by the SGD algorithm is\",variance)"
      ],
      "metadata": {
        "id": "splmC0D2jZZH",
        "colab": {
          "base_uri": "https://localhost:8080/"
        },
        "outputId": "2c503c21-ca3a-4286-df48-cf375b33af06"
      },
      "execution_count": null,
      "outputs": [
        {
          "output_type": "stream",
          "name": "stdout",
          "text": [
            "For the linear regression the equation is y=mx+b. Omega found by the SGD algorithm is [[0.34768383]\n",
            " [0.88736938]]. Where m = 0.8284062606569057 and b = -0.000176047871901971\n",
            "Variance found by the SGD algorithm is 56.031029030545405\n"
          ]
        }
      ]
    }
  ]
}