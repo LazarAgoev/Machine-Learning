{
  "nbformat": 4,
  "nbformat_minor": 0,
  "metadata": {
    "colab": {
      "name": "Midterm_Assignment.ipynb",
      "provenance": [],
      "collapsed_sections": []
    },
    "kernelspec": {
      "name": "python3",
      "display_name": "Python 3"
    },
    "language_info": {
      "name": "python"
    }
  },
  "cells": [
    {
      "cell_type": "code",
      "execution_count": null,
      "metadata": {
        "id": "WPnMfaa_J3BU"
      },
      "outputs": [],
      "source": [
        "import numpy as np\n",
        "import matplotlib.pyplot as plt\n",
        "import math"
      ]
    },
    {
      "cell_type": "markdown",
      "source": [
        "#Problem A\n",
        "###Developing a synthetic dataset that captures what happened during geopolitical events that suddenly occurred at time $t_s$. \n"
      ],
      "metadata": {
        "id": "nMexMJzL0S3R"
      }
    },
    {
      "cell_type": "markdown",
      "source": [
        "###The function bellow performs a pransformation (the jump) on the already created data of prices without jumps. Notice that I have also created a variable 'y' that is assigned as zero for all datapoints without the jump and then I'm reasigning it to 1 to the point with the jump. This variable will keep the distinction between different types of prices ($x_s$ and $x_e$) which I will use in part B to reduce the number of computations. "
      ],
      "metadata": {
        "id": "VPhdg-uB0hZw"
      }
    },
    {
      "cell_type": "code",
      "source": [
        "def jump(x,y,t):\n",
        "  for i in range(t, t+10):\n",
        "    x[i]=2*x[i]\n",
        "    y[i]=1\n"
      ],
      "metadata": {
        "id": "5nt5UP2SNVBI"
      },
      "execution_count": null,
      "outputs": []
    },
    {
      "cell_type": "markdown",
      "source": [
        "###Down bellow I am creating 3 variables: \n",
        "###1) t - the duration of the dataset (365 time units) \n",
        "###2) x - the prices of at the time units. Notice that for my standatrd diviation 'std' for the noise I take a square root of (0.2*50) because we are given that the variance is 20% of 50 and variance is also standart diviation squared. \n",
        "###3) y - an array of ones and seroz to keep distinction between $x_s$ and $x_e$"
      ],
      "metadata": {
        "id": "9qVw1j2Z0SSm"
      }
    },
    {
      "cell_type": "code",
      "source": [
        "t=np.linspace(1,365,365)\n",
        "y=np.zeros(365)\n",
        "x = np.zeros(365)\n",
        "\n",
        "\n",
        "static_price =50 \n",
        "std = math.sqrt(0.2*static_price)\n",
        "\n",
        "\n",
        "for i in range(0, 365):\n",
        "  x[i] = 50 + np.random.normal(0, std)\n",
        "\n",
        "\n",
        "#first jump\n",
        "t_1 = np.random.randint(355)\n",
        "jump(x,y,t_1)\n",
        "\n",
        "#second jump\n",
        "t_2 = np.random.randint(355)\n",
        "jump(x,y,t_2)\n"
      ],
      "metadata": {
        "id": "hUQwJx6nMqUn"
      },
      "execution_count": null,
      "outputs": []
    },
    {
      "cell_type": "markdown",
      "source": [
        "###I am ploting the visualization of the synthesized dataset. \n",
        "###Notice the 2 jumps happening arount time 150 and time 250"
      ],
      "metadata": {
        "id": "EXgYMVwDFbaj"
      }
    },
    {
      "cell_type": "code",
      "source": [
        "plt.plot(t,x,'.')\n",
        "plt.title(\"The price of electricity at time t\", size=18)\n",
        "plt.ylabel(\"Price\", size=16)\n",
        "plt.xlabel(\"Time\", size=16)"
      ],
      "metadata": {
        "colab": {
          "base_uri": "https://localhost:8080/",
          "height": 321
        },
        "id": "mqTW_fJjOskN",
        "outputId": "1758e251-46a3-4453-ced9-d82352955ca8"
      },
      "execution_count": null,
      "outputs": [
        {
          "output_type": "execute_result",
          "data": {
            "text/plain": [
              "Text(0.5, 0, 'Time')"
            ]
          },
          "metadata": {},
          "execution_count": 122
        },
        {
          "output_type": "display_data",
          "data": {
            "image/png": "[encoded data removed]",
            "text/plain": [
              "<Figure size 432x288 with 1 Axes>"
            ]
          },
          "metadata": {
            "needs_background": "light"
          }
        }
      ]
    },
    {
      "cell_type": "markdown",
      "source": [
        "#Problem B"
      ],
      "metadata": {
        "id": "M0Gh1MzfXtTI"
      }
    },
    {
      "cell_type": "markdown",
      "source": [
        "###Down bellow is a recursive function that performs an algorithms of a single desision tree \n",
        "###Notice that I am not passing the actual sample into the tree function, insread I create a sample of indexes and pass it into the tree. Using those indexes I can get the samples for both x and y variables. \n",
        "\n",
        "The rest of the explanation is writen in the comments"
      ],
      "metadata": {
        "id": "SY7cDrlDGEfb"
      }
    },
    {
      "cell_type": "code",
      "source": [
        "def tree(d,indexes, all_paths, splits):\n",
        "  \n",
        "  #create the sample arrays for x and y with the given inedexes \n",
        "  sample_x=[]\n",
        "  sample_y=[]\n",
        "  for i in indexes:\n",
        "    sample_x.append(x[i])\n",
        "    sample_y.append(y[i])\n",
        "  \n",
        "  #check for the boundary conditions for the recrusion \n",
        "  #if there is only one data point : save the number of edges and return\n",
        "  if(len(indexes)<=1):\n",
        "    for i in range(len(indexes)):\n",
        "      all_paths[indexes[i]].append(d)\n",
        "    return \n",
        "  #if there is only x_s prices but no x_e : save the number of edges and return\n",
        "  if(0 in sample_y and 1 not in sample_y):\n",
        "    for i in range(len(indexes)):\n",
        "      all_paths[indexes[i]].append(d)\n",
        "    return \n",
        "  #if there is only x_e prices but x_s : save the number of edges and return\n",
        "  if(1 in sample_y and 0 not in sample_y):\n",
        "    for i in range(len(indexes)):\n",
        "      all_paths[indexes[i]].append(d)\n",
        "    return\n",
        "\n",
        "\n",
        "  #chose a random place between the max and the min to split the sample \n",
        "  xmax = max(sample_x)\n",
        "  xmin = min(sample_x)\n",
        "  split = (xmax-xmin)*np.random.random()+xmin \n",
        "  #save the split for the future prediction\n",
        "  splits.append(split)\n",
        "\n",
        "  #check for the boundary conditions for the recursion \n",
        "  #if we reached the maximum depth : save the number of edges and return\n",
        "  if(d==D_max):\n",
        "    for i in range(len(indexes)):\n",
        "      all_paths[indexes[i]].append(d)\n",
        "    return \n",
        "\n",
        "\n",
        "  #create 2 new samples for the above and bellow the split\n",
        "  index_up =[]\n",
        "  index_low = []\n",
        "  for i in range(len(indexes)):\n",
        "    if(sample_x[i]>split):\n",
        "      index_up.append(indexes[i])\n",
        "    else:\n",
        "      index_low.append(indexes[i])\n",
        "  \n",
        "  \n",
        "  #increment the current depth and run the recrusion \n",
        "  d=d+1\n",
        "  tree(d,index_up,all_paths,splits)\n",
        "  tree(d,index_low,all_paths,splits)"
      ],
      "metadata": {
        "id": "1ka3jxSH8LR4"
      },
      "execution_count": null,
      "outputs": []
    },
    {
      "cell_type": "markdown",
      "source": [
        "### Down bellow I wrote a function $\\textbf{evaluate_forest}$ \n",
        "### Notice that the variable 'all_paths' is an array of array that stores the number of nodes each data point went trough. The index of the array of paths in 'all_paths' matches the index of the data point in x. (Thus the point 'x[0]' went through nades stored in array 'all_paths[0]')\n",
        "\n",
        "The rest of explanation is in comments"
      ],
      "metadata": {
        "id": "_53ee8ooN90j"
      }
    },
    {
      "cell_type": "code",
      "source": [
        "def evaluate_forest():\n",
        "  \n",
        "  \n",
        "  #create an array of empty arrays [[],[]...[]]\n",
        "  all_paths=[]\n",
        "  for i in range(0, 365):\n",
        "    all_paths.append([])\n",
        "\n",
        "\n",
        "\n",
        " \n",
        "  #run the three function K times \n",
        "  for k in range(K):\n",
        "    #keep track of all the splits to make a threshold prediction for the tree\n",
        "    splits=[] \n",
        "\n",
        "    #create a sample for the tree\n",
        "    sample_indexes = []\n",
        "    for i in range(N):\n",
        "      sample_indexes.append(np.random.randint(365))\n",
        "    \n",
        "\n",
        "    # every tree begins at depth 1, run the tree\n",
        "    d=1\n",
        "    tree(d,sample_indexes,all_paths,splits)\n",
        "    \n",
        "    #record the prediction of the threshold for the tree\n",
        "    if(len(splits)>0):\n",
        "      all_thresholds.append(sum(splits)/len(splits))\n",
        "  \n",
        "  \n",
        "  #for each index/data_point average the amount of edges it went through in each tree and return the value\n",
        "  average_paths=[]\n",
        "  for i in range(0, 365):\n",
        "    if(len(all_paths[i])>0):\n",
        "      average_paths.append(sum(all_paths[i])/len(all_paths[i]))\n",
        "    else:\n",
        "      average_paths.append(0)\n",
        "  return average_paths"
      ],
      "metadata": {
        "id": "hbOqxpOn9sdN"
      },
      "execution_count": null,
      "outputs": []
    },
    {
      "cell_type": "markdown",
      "source": [
        "## $\\underline{Question}$ : What can you notice about the average path lengths of prices that correspond to price jumps events vs the rest ?"
      ],
      "metadata": {
        "id": "UmEhoDbBVtaB"
      }
    },
    {
      "cell_type": "markdown",
      "source": [
        "## $\\underline{Answer}$ :\n",
        "### The answer to the question is that if solving the given probelem the way I was asked to solve it I would get that $\\textbf{the average path lengths of prices that correspond to price jumps events are lower than for the rest of the events}$. And I would be able to see the dip in the plot.\n",
        "\n",
        "###However, I introduced the y variable to my code to optimize it and make it less computationaly expensive, therefore the $x_s$ data points don't travel through as many paths for no reason, instead my function recognizes that it's a waste of time and exits. "
      ],
      "metadata": {
        "id": "Wndha6h6WQK_"
      }
    },
    {
      "cell_type": "markdown",
      "source": [
        "###To emulate what my code would be doing without optimizing it with the y variable, I gan chose a very big sample size N that is bigger than the datase and a very small number of trees K.\n",
        "Look at the graph bellow for N=5000 and K = 20, as you can see $x_s$ datapoints (at t around 150 and 250) on average have smaller paths."
      ],
      "metadata": {
        "id": "0XL2uES-XRUM"
      }
    },
    {
      "cell_type": "code",
      "source": [
        "N=5000\n",
        "K=20\n",
        "D_max=5\n",
        "\n",
        "\n",
        "all_thresholds=[] #keeps track of each trees predictions\n",
        "\n",
        "paths=evaluate_forest()\n",
        "\n",
        "plt.plot(t,paths,'.')\n",
        "plt.ylabel(\"Average path length\", size=16)\n",
        "plt.xlabel(\"The sample\", size=16)\n",
        "plt.title(\"The average path of each sample\", size=18)\n",
        "print(\"The treshold that can best detect the price jump is %.2f\" %(sum(all_thresholds)/len(all_thresholds)))"
      ],
      "metadata": {
        "colab": {
          "base_uri": "https://localhost:8080/",
          "height": 321
        },
        "id": "opHHGJU9BAww",
        "outputId": "1f7ab0f5-52bf-41a5-a79f-40e67cbae83e"
      },
      "execution_count": null,
      "outputs": [
        {
          "output_type": "stream",
          "name": "stdout",
          "text": [
            "The treshold that can best detect the price jump is 76.27\n"
          ]
        },
        {
          "output_type": "display_data",
          "data": {
            "image/png": "[encoded data removed]",
            "text/plain": [
              "<Figure size 432x288 with 1 Axes>"
            ]
          },
          "metadata": {
            "needs_background": "light"
          }
        }
      ]
    },
    {
      "cell_type": "markdown",
      "source": [
        "###Notice that if I pick my N to be very small and K to be very large, I can get the opposite effect where my $x_e$ points have longer paths.\n",
        "\n",
        "Look at the graph bellow for N=10 and K = 500"
      ],
      "metadata": {
        "id": "2hgLBqOsWPEY"
      }
    },
    {
      "cell_type": "code",
      "source": [
        "N=10\n",
        "K=500\n",
        "D_max=5\n",
        "\n",
        "\n",
        "all_thresholds=[] #keeps track of each trees predictions\n",
        "\n",
        "paths=evaluate_forest()\n",
        "\n",
        "plt.plot(t,paths,'.')\n",
        "plt.ylabel(\"Average path length\", size=16)\n",
        "plt.xlabel(\"The sample\", size=16)\n",
        "plt.title(\"The average path of each sample\", size=18)\n",
        "print(\"The treshold that can best detect the price jump is %.2f\" %(sum(all_thresholds)/len(all_thresholds)))"
      ],
      "metadata": {
        "colab": {
          "base_uri": "https://localhost:8080/",
          "height": 321
        },
        "id": "oC5wfqunCRLx",
        "outputId": "36b91bb0-2523-4f55-bfde-2ceac12358fc"
      },
      "execution_count": null,
      "outputs": [
        {
          "output_type": "stream",
          "name": "stdout",
          "text": [
            "The treshold that can best detect the price jump is 75.75\n"
          ]
        },
        {
          "output_type": "display_data",
          "data": {
            "image/png": "[encoded data removed]",
            "text/plain": [
              "<Figure size 432x288 with 1 Axes>"
            ]
          },
          "metadata": {
            "needs_background": "light"
          }
        }
      ]
    },
    {
      "cell_type": "markdown",
      "source": [
        "###Although those graphs look different, they yeild similar predictions for the threshold. Thus, we can pick both K and N to be small to reduce the computation cost and still get a good prediction. \n",
        "\n",
        "###Although the average paths graph doesn't look as good, the algorithm still works well at prediction the threshold and not as computationaly expensve.\n"
      ],
      "metadata": {
        "id": "JiXFDKx-bL8x"
      }
    },
    {
      "cell_type": "code",
      "source": [
        "N=40\n",
        "K=40\n",
        "D_max=5\n",
        "\n",
        "\n",
        "all_thresholds=[] #keeps track of each trees predictions\n",
        "\n",
        "paths=evaluate_forest()\n",
        "\n",
        "plt.plot(t,paths,'.')\n",
        "plt.ylabel(\"Average path length\", size=16)\n",
        "plt.xlabel(\"The sample\", size=16)\n",
        "plt.title(\"The average path of each sample\", size=18)\n",
        "print(\"The treshold that can best detect the price jump is %.2f\" %(sum(all_thresholds)/len(all_thresholds)))"
      ],
      "metadata": {
        "colab": {
          "base_uri": "https://localhost:8080/",
          "height": 321
        },
        "id": "Ql_yN6nFVUpH",
        "outputId": "65f297d8-4f42-4c47-d3fb-90f17c7e207e"
      },
      "execution_count": null,
      "outputs": [
        {
          "output_type": "stream",
          "name": "stdout",
          "text": [
            "The treshold that can best detect the price jump is 77.20\n"
          ]
        },
        {
          "output_type": "display_data",
          "data": {
            "image/png": "[encoded data removed]",
            "text/plain": [
              "<Figure size 432x288 with 1 Axes>"
            ]
          },
          "metadata": {
            "needs_background": "light"
          }
        }
      ]
    },
    {
      "cell_type": "markdown",
      "source": [
        "### Thus, I chose: $N$ = 40, $K$ = 40, $D_{max}$ = 5.\n",
        "### This gave me the result of the throshold of $\\textbf{77.20}$"
      ],
      "metadata": {
        "id": "p7JJER42fmV3"
      }
    },
    {
      "cell_type": "markdown",
      "source": [
        "#$\\underline{Extra}$: $\\textbf{Question B8}$\n",
        "\n",
        "###To show that the average path plot would look like if I didn't use the y variable that I introduced, I will redifine the tree function to not have the y-variable boundary conditions and run the random forest again.  \n"
      ],
      "metadata": {
        "id": "VUiUJjvHk54-"
      }
    },
    {
      "cell_type": "code",
      "source": [
        "def tree(d,indexes, all_paths, splits):\n",
        "  \n",
        "  #create the sample arrays for x and y with the given inedexes \n",
        "\n",
        "  sample_x=[]\n",
        "  sample_y=[]\n",
        "  for i in indexes:\n",
        "    sample_x.append(x[i])\n",
        "    sample_y.append(y[i])\n",
        "  \n",
        "  #check for the boundary conditions for the recrusion \n",
        "\n",
        "  #if there is only one data point : save the number of edges and return\n",
        "  if(len(indexes)<=1):\n",
        "    for i in range(len(indexes)):\n",
        "      all_paths[indexes[i]].append(d)\n",
        "    return \n",
        "\n",
        "\n",
        "\n",
        "  #chose a random place between the max and the min to split the sample \n",
        "  xmax = max(sample_x)\n",
        "  xmin = min(sample_x)\n",
        "  split = (xmax-xmin)*np.random.random()+xmin \n",
        "  #save the split for the future prediction\n",
        "  splits.append(split)\n",
        "\n",
        "  #check for the boundary conditions for the recursion \n",
        "  #if we reached the maximum depth : save the number of edges and return\n",
        "  if(d==D_max):\n",
        "    for i in range(len(indexes)):\n",
        "      all_paths[indexes[i]].append(d)\n",
        "    return \n",
        "\n",
        "\n",
        "  #create 2 new samples for the above and bellow the split\n",
        "  index_up =[]\n",
        "  index_low = []\n",
        "  for i in range(len(indexes)):\n",
        "    if(sample_x[i]>split):\n",
        "      index_up.append(indexes[i])\n",
        "    else:\n",
        "      index_low.append(indexes[i])\n",
        "  \n",
        "  \n",
        "  #increment the current depth and run the recrusion \n",
        "  d=d+1\n",
        "  tree(d,index_up,all_paths,splits)\n",
        "  tree(d,index_low,all_paths,splits)"
      ],
      "metadata": {
        "id": "gDi4-a3mkerN"
      },
      "execution_count": null,
      "outputs": []
    },
    {
      "cell_type": "markdown",
      "source": [
        "###Down bellow I ran a random forest that uses a desician tree without a y-variable. \n",
        "###I used  $N$ = 100, $K$ = 40, $D_{max}$ = 5\n",
        "### Notice that as I said above, the average path length for $x_e$ data points is shorter than the rest of samples.\n",
        "### The predicted threshold is 64.54 which is close to the previous ones but not as good.\n",
        "### The algorithm with a y-variable is faster since is doesn't require as big of a sample size. And it doesn't use as many nodes in trees. (AKA smaller paths.) You can see that the averave path langht down bellow is 5 because its the $D_{max}$, while the average path length above is around 2.  "
      ],
      "metadata": {
        "id": "mIkiiJtvl29e"
      }
    },
    {
      "cell_type": "code",
      "source": [
        "N=100\n",
        "K=40\n",
        "D_max=5\n",
        "\n",
        "\n",
        "all_thresholds=[] #keeps track of each trees predictions\n",
        "\n",
        "paths=evaluate_forest()\n",
        "\n",
        "plt.plot(t,paths,'.')\n",
        "plt.ylabel(\"Average path length\", size=16)\n",
        "plt.xlabel(\"The sample\", size=16)\n",
        "plt.title(\"The average path of each sample\", size=18)\n",
        "print(\"The treshold that can best detect the price jump is %.2f\" %(sum(all_thresholds)/len(all_thresholds)))"
      ],
      "metadata": {
        "colab": {
          "base_uri": "https://localhost:8080/",
          "height": 321
        },
        "id": "nex1e2mhkgod",
        "outputId": "7a2462e5-a2db-4913-caa3-dc0783838fd0"
      },
      "execution_count": null,
      "outputs": [
        {
          "output_type": "stream",
          "name": "stdout",
          "text": [
            "The treshold that can best detect the price jump is 64.54\n"
          ]
        },
        {
          "output_type": "display_data",
          "data": {
            "image/png": "[encoded data removed]",
            "text/plain": [
              "<Figure size 432x288 with 1 Axes>"
            ]
          },
          "metadata": {
            "needs_background": "light"
          }
        }
      ]
    }
  ]
}